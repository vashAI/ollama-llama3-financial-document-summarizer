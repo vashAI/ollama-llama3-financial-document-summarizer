{
 "cells": [
  {
   "cell_type": "code",
   "execution_count": 3,
   "metadata": {},
   "outputs": [],
   "source": [
    "# Import the necessary libraries\n",
    "import PyPDF2\n",
    "\n",
    "from langchain_community.vectorstores import FAISS\n",
    "from langchain.prompts import ChatPromptTemplate\n",
    "from langchain_community.llms.ollama import Ollama\n",
    "from IPython.display import display, Markdown, clear_output\n",
    "import time"
   ]
  },
  {
   "cell_type": "code",
   "execution_count": 4,
   "metadata": {},
   "outputs": [],
   "source": [
    "# Initialize the LLaMA model via Ollama\n",
    "model_id = \"llama3.1\"\n",
    "model = Ollama(model=model_id)"
   ]
  },
  {
   "cell_type": "code",
   "execution_count": 5,
   "metadata": {},
   "outputs": [],
   "source": [
    "# Function to extract text from PDF\n",
    "def extract_text_from_pdf(pdf_path):\n",
    "    with open(pdf_path, 'rb') as file:\n",
    "        reader = PyPDF2.PdfReader(file)\n",
    "        text = \"\"\n",
    "        for page in range(len(reader.pages)):\n",
    "            text += reader.pages[page].extract_text()\n",
    "    return text"
   ]
  },
  {
   "cell_type": "code",
   "execution_count": 8,
   "metadata": {},
   "outputs": [],
   "source": [
    "def summarize_text(input_text: str):\n",
    "    \"\"\"\n",
    "    Summarize a given text using the llama3.1 model.\n",
    "\n",
    "    Args:\n",
    "        input_text (str): The text to summarize.\n",
    "\n",
    "    Returns:\n",
    "        summary (str): Summarized text.\n",
    "    \"\"\"\n",
    "\n",
    "    # Step 1: Prepare the summarization prompt\n",
    "    prompt_template = \"\"\"\n",
    "    You are an advanced summarization model. Summarize the following text:\n",
    "    \n",
    "    {text}\n",
    "    \n",
    "    Provide a concise and informative summary.\n",
    "    \"\"\"\n",
    "    prompt = ChatPromptTemplate.from_template(prompt_template)\n",
    "\n",
    "    # Step 2: Inject the whole document into the prompt\n",
    "    input_prompt = prompt.format(text=input_text)\n",
    "\n",
    "    # Step 3: Generate the summary\n",
    "    display(Markdown(\"**Generating Summary...**\"))\n",
    "    result = model(input_prompt)\n",
    "    \n",
    "    # Display the final result\n",
    "    clear_output(wait=True)\n",
    "    display(Markdown(f\"### Final Summary:\\n\\n{result.strip()}\"))\n",
    "    \n",
    "    return result.strip()"
   ]
  }
 ],
 "metadata": {
  "kernelspec": {
   "display_name": "Python 3",
   "language": "python",
   "name": "python3"
  },
  "language_info": {
   "codemirror_mode": {
    "name": "ipython",
    "version": 3
   },
   "file_extension": ".py",
   "mimetype": "text/x-python",
   "name": "python",
   "nbconvert_exporter": "python",
   "pygments_lexer": "ipython3",
   "version": "3.9.6"
  }
 },
 "nbformat": 4,
 "nbformat_minor": 2
}
